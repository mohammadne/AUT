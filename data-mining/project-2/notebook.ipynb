{
 "cells": [
  {
   "cell_type": "markdown",
   "metadata": {},
   "source": [
    "## Detect a subject is wearing glasses or not \n",
    "\n",
    "### can be done easily by detecting the presence of a nose bridge in a pair of glasses.\n",
    "\n",
    "## steps:\n",
    "- Get the facial landmark coordinates for the nasal area\n",
    "- Crop the Image base on these landmarks\n",
    "- Convert the image into black and white (White being the background and black being the details)\n",
    "- Look of the presence a nasal strip in the nose (A strip of 0s (black pixels))\n",
    "- If present than the subject is wearing glasses\n",
    "\n",
    "### import the libraries needed"
   ]
  },
  {
   "cell_type": "code",
   "execution_count": null,
   "metadata": {
    "vscode": {
     "languageId": "plaintext"
    }
   },
   "outputs": [],
   "source": [
    "import numpy as np\n",
    "from PIL import Image\n",
    "import tensorflow as tf\n",
    "import glob"
   ]
  },
  {
   "cell_type": "markdown",
   "metadata": {},
   "source": [
    "### define required functions\n",
    "\n",
    "> the functions are self explanetory and we have added comments for required activities. "
   ]
  },
  {
   "cell_type": "code",
   "execution_count": null,
   "metadata": {},
   "outputs": [],
   "source": [
    "def get_image_data(filename):\n",
    "    imgData = (Image.open(filename))\n",
    "    imgData = imgData.resize((60,60),Image.ANTIALIAS)\n",
    "    #imgData = map(list, imgData)\n",
    "    imgData = np.asarray(imgData)\n",
    "    img_wide = imgData.reshape(1, 60 , 60 , 3)\n",
    "    return img_wide\n",
    "def extract_files(filesPath):\n",
    "    data = np.empty((1,60,60,3))\n",
    "    img = glob.glob(filesPath+\"/*.jpg\")\n",
    "    for i in img:\n",
    "        print(i)\n",
    "        arr = get_image_data(i)\n",
    "        data = np.append(data,arr,axis=0)\n",
    "    return data\n",
    "def weight_variable(shape):\n",
    "    initial = tf.truncated_normal(shape, stddev=0.05)\n",
    "    return tf.Variable(initial)\n",
    "\n",
    "def bias_variable(shape):\n",
    "    initial = tf.constant(0.05, shape=shape)\n",
    "    return tf.Variable(initial)\n",
    "\n",
    "def conv2d(x, W):\n",
    "    return tf.nn.conv2d(x, W, strides=[1, 1, 1, 1], padding='SAME')\n",
    "\n",
    "def max_pool_2x2(x):\n",
    "    return tf.nn.max_pool(x, ksize=[1, 2, 2, 1],strides=[1, 2, 2, 1], padding='SAME')\n",
    "def CNN_EYEGLASSES(ImageX,ImageY):\n",
    "\n",
    "    session = tf.InteractiveSession()\n",
    "    #Initializing placeholders for x and y value\n",
    "    #None --> First dimension can be of any size\n",
    "    \n",
    "    x = tf.placeholder(tf.float32, shape = [None, 10800]) \n",
    "    \n",
    "    y = tf.placeholder(tf.float32, shape = [None,None])\n",
    "    \n",
    "    #First convolution layer\n",
    "    W_conv1 = weight_variable([5, 5, 3, 32])\n",
    "    b_conv1 = bias_variable([32])\n",
    "    x_image = tf.reshape(x,[-1, 60, 60, 3])\n",
    "    h_conv1 = tf.nn.relu(conv2d(x_image, W_conv1) + b_conv1)\n",
    "    h_pool1 = max_pool_2x2(h_conv1)\n",
    "\n",
    "    #Second convolution layer\n",
    "    W_conv2 = weight_variable([5, 5, 32, 64])\n",
    "    b_conv2 = bias_variable([64])\n",
    "    h_conv2 = tf.nn.relu(conv2d(h_pool1, W_conv2) + b_conv2)\n",
    "    h_pool2 = max_pool_2x2(h_conv2)\n",
    "\n",
    "\n",
    "    W_fc1 = weight_variable([15 * 15 * 64, 1024])\n",
    "    b_fc1 = bias_variable([1024])\n",
    "    h_pool2_flat = tf.reshape(h_pool2, [-1, 15*15*64])\n",
    "    h_fc1 = tf.nn.relu(tf.matmul(h_pool2_flat, W_fc1) + b_fc1)\n",
    "\n",
    "    #To reduce overfitting\n",
    "    keep_prob = tf.placeholder(tf.float32)\n",
    "    h_fc1_drop = tf.nn.dropout(h_fc1, keep_prob)\n",
    "\n",
    "    #Adding a layer\n",
    "    W_fc2 = weight_variable([1024, 1])\n",
    "    b_fc2 = bias_variable([1])\n",
    "\n",
    "    y_conv = tf.matmul(h_fc1_drop, W_fc2) + b_fc2\n",
    "\n",
    "    cross_entropy = tf.reduce_mean(tf.nn.sigmoid_cross_entropy_with_logits(labels=y, logits=y_conv))\n",
    "    train_step = tf.train.AdamOptimizer(1e-9).minimize(cross_entropy)\n",
    "    correct_prediction = tf.equal(tf.round(y_conv), y)\n",
    "    accuracy = tf.reduce_mean(tf.cast(correct_prediction, tf.float32))\n",
    "\n",
    "    with tf.Session() as session:\n",
    "        session.run(tf.global_variables_initializer())\n",
    "        for i in range(0,60000,1000):\n",
    "            #100 is the step size for training\n",
    "            batch=ImageX[range(i,i+100),:]\n",
    "            batchY=ImageY[range(i,i+100),:]\n",
    "            if i % 100 == 0:\n",
    "                train_accuracy = accuracy.eval(feed_dict={\n",
    "                    x: batch[0], y: batch[1], keep_prob: 0.8})\n",
    "                print('step %d, training accuracy %g' % (i, train_accuracy))\n",
    "            train_step.run(feed_dict={x: batch[0], y: batch[1], keep_prob:\n",
    "            0.8})\n",
    "        print('Celebs Test accuracy %g' % accuracy.eval(feed_dict={\n",
    "            x: ImageX, y: ImageY, keep_prob: 1.0}))"
   ]
  },
  {
   "cell_type": "code",
   "execution_count": null,
   "metadata": {},
   "outputs": [],
   "source": [
    "//load data from dataset\n",
    "#Load images from the filesPath\n",
    "ImageX=extract_files(filesPath)\n",
    "\n",
    "#reshape loaded images of size [N,60,60,3] to [N,10800]\n",
    "ImageX_R=ImageX.reshape(N,10800)\n",
    "\n",
    "#load list attributes: filesPathList is a valid file path\n",
    "allLabelsArray=np.loadtxt(filesPathList,dtype='str')\n",
    "\n",
    "#Eyeglasses column is at 16th column\n",
    "ImageY=allLabelsArray[:,16]\n",
    "ImageY = np.asarray([int(numeric_string) for numeric_string in arrayCopy]).reshape(202599,1)\n",
    "\n",
    "#Negative values(-1) are set to 0 and positive values are set to 1\n",
    "ImageY[ImageY<0]=0\n",
    "\n",
    "#ImageY=desired_array[range(0,60000),:] Pick 60k image sinitially for testing\n",
    "CNN_EYEGLASSES(ImageX_R,ImageY)"
   ]
  },
  {
   "cell_type": "markdown",
   "metadata": {},
   "source": [
    "## Note:\n",
    "- Try to be in a well lit room\n",
    "- Try to use frames which are darker and thicker\n",
    "- Raise your eyebrows a little but not too much - For dlib landmarks detection"
   ]
  }
 ],
 "metadata": {
  "language_info": {
   "name": "python"
  },
  "orig_nbformat": 4
 },
 "nbformat": 4,
 "nbformat_minor": 2
}
